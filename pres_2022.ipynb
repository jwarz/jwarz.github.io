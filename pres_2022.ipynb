{
  "cells": [
    {
      "cell_type": "raw",
      "metadata": {},
      "source": [
        "---\n",
        "title: \"2022\"\n",
        "subtitle: \"2022\"\n",
        "---"
      ],
      "id": "c1f4105f"
    },
    {
      "cell_type": "markdown",
      "metadata": {},
      "source": [
        "List of presentations\n",
        "\n",
        "* [First presentation](presentations/2022/first/first.html)\n",
        "\n",
        "\n",
        "```{css, include=FALSE}\n",
        "iframe {\n",
        "  width: 100vw\n",
        "}\n",
        "```\n",
        "\n",
        "\n",
        "<iframe frameborder=\"0\" allowfullscreen width=100 height=auto src=\"presentations/2022/first/first.html\"></iframe>\n"
      ],
      "id": "7b141f64"
    }
  ],
  "metadata": {
    "kernelspec": {
      "name": "python3",
      "language": "python",
      "display_name": "Python 3 (ipykernel)"
    }
  },
  "nbformat": 4,
  "nbformat_minor": 5
}