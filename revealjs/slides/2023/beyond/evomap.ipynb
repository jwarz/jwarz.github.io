{
  "cells": [
    {
      "cell_type": "raw",
      "metadata": {},
      "source": [
        "---\n",
        "# TITLE & AUTHOR\n",
        "title: \"Beyond the beginning\"\n",
        "subtitle: \"Unveiling the Evolutionary Paths of Startups Using Dynamic Classification\"\n",
        "author: \"Joschka Schwarz\"\n",
        "institute: \"Hamburg University of Technology\"\n",
        "date: today\n",
        "date-format: \"dddd, D. MMMM YYYY\"\n",
        "# FORMAT OPTIONS\n",
        "---"
      ],
      "id": "2e245aa1"
    },
    {
      "cell_type": "markdown",
      "metadata": {},
      "source": [
        "# Introduction {data-stack-name=\"Intro\"}\n",
        "\n",
        "## How Failing to Adapt Led to Bankruptcy\n",
        "\n",
        "![](assets/img/02_png/Netflix-Blockbuster.png){fig-align=\"center\"}\n",
        "\n",
        "## Creative Destruction: Out With the Old, in With the New\n",
        "\n",
        "::: {.absolute top=30% right=0% width=30%}\n",
        "![](assets/img/schumpeter.svg)\n",
        ":::\n",
        "\n",
        "\n",
        "```{css, echo=FALSE}\n",
        "\n",
        "```"
      ],
      "id": "099c8c01"
    }
  ],
  "metadata": {
    "kernelspec": {
      "name": "python3",
      "language": "python",
      "display_name": "Python 3 (ipykernel)"
    }
  },
  "nbformat": 4,
  "nbformat_minor": 5
}